{
 "cells": [
  {
   "cell_type": "code",
   "execution_count": 6,
   "metadata": {},
   "outputs": [
    {
     "name": "stdout",
     "output_type": "stream",
     "text": [
      "county\n",
      "sellerType\n",
      "currency\n",
      "make\n",
      "country\n",
      "transmission\n",
      "trim\n",
      "fuelType\n",
      "model\n",
      "bodyType\n",
      "colour\n"
     ]
    }
   ],
   "source": [
    "import os\n",
    "import pandas as pd\n",
    "import donedeal as dd\n",
    "\n",
    "pd.options.display.max_columns = None\n",
    "\n",
    "data = []\n",
    "for file in filter(lambda file: file.endswith('.pkl'),os.listdir('.')):\n",
    "    if file == 'processed.pkl':\n",
    "        continue\n",
    "    data.append(pd.read_pickle(file))\n",
    "data = pd.concat(data,ignore_index=True)\n",
    "\n",
    "ds = data.copy().drop(columns = 'ScrapeDate countyTown friendlyUrl header description'.split())\n",
    "ds = ds.apply(lambda row:row.apply(lambda x: x if x else None),axis=1)\n",
    "ds = ds.dropna()\n",
    "\n",
    "ds['seats'] = ds.seats.astype('int')\n",
    "ds['numDoors'] = ds.numDoors.astype('int')\n",
    "ds['owners'] = ds.owners.astype('int')\n",
    "ds['roadTax'] = ds.roadTax.astype('int')\n",
    "ds['year'] = ds.year.astype('int')\n",
    "\n",
    "ds['NCTExpiry'] = ds.NCTExpiry.apply(dd.data_cleaning.parse_NCTExpiry)\n",
    "ds['engine'] = ds.engine.apply(dd.data_cleaning.parse_engine)\n",
    "ds['enginePower'] = ds.enginePower.apply(dd.data_cleaning.parse_enginePower)\n",
    "ds['acceleration'] = ds.acceleration.apply(dd.data_cleaning.parse_acceleration)\n",
    "\n",
    "ds.apply(lambda row: row.apply(lambda x: type(x).__name__).value_counts().to_dict(),axis=0)\n",
    "types = ds.apply(lambda row: row.apply(lambda x: type(x).__name__).iloc[0],axis=0).sort_values().to_dict()\n",
    "ds = ds[types.keys()]\n",
    "\n",
    "inverse_types = dict()\n",
    "for col,dtype in types.items():\n",
    "    if dtype not in inverse_types:\n",
    "        inverse_types[dtype] = []\n",
    "    inverse_types[dtype].append(col)\n",
    "\n",
    "ds.reset_index(drop=True,inplace=True)\n",
    "exploded = pd.concat([ds]+[dd.data_cleaning.encode_strings(ds[col]) for col in inverse_types['str']],axis=1).drop(columns=inverse_types['str'])\n",
    "exploded.to_pickle('processed.pkl')"
   ]
  },
  {
   "cell_type": "code",
   "execution_count": null,
   "metadata": {},
   "outputs": [],
   "source": []
  }
 ],
 "metadata": {
  "kernelspec": {
   "display_name": "Python 3",
   "language": "python",
   "name": "python3"
  },
  "language_info": {
   "codemirror_mode": {
    "name": "ipython",
    "version": 3
   },
   "file_extension": ".py",
   "mimetype": "text/x-python",
   "name": "python",
   "nbconvert_exporter": "python",
   "pygments_lexer": "ipython3",
   "version": "3.12.1"
  }
 },
 "nbformat": 4,
 "nbformat_minor": 2
}
